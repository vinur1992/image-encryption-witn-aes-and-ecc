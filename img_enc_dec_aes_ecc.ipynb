{
  "nbformat": 4,
  "nbformat_minor": 0,
  "metadata": {
    "colab": {
      "name": "img enc dec aes ecc.ipynb",
      "provenance": []
    },
    "kernelspec": {
      "name": "python3",
      "display_name": "Python 3"
    }
  },
  "cells": [
    {
      "cell_type": "code",
      "metadata": {
        "id": "UVIRBC25IwIG",
        "outputId": "6db590f0-b00d-484c-d3a4-c3823cce64d0",
        "colab": {
          "base_uri": "https://localhost:8080/",
          "height": 122
        }
      },
      "source": [
        "pip install pycryptodomex"
      ],
      "execution_count": null,
      "outputs": [
        {
          "output_type": "stream",
          "text": [
            "Collecting pycryptodomex\n",
            "\u001b[?25l  Downloading https://files.pythonhosted.org/packages/e1/47/d3ead950b09799b4c8816f6c62fbe09991932baadb1a7c372ed8ef0e8fbe/pycryptodomex-3.9.8-cp36-cp36m-manylinux1_x86_64.whl (13.7MB)\n",
            "\u001b[K     |████████████████████████████████| 13.7MB 324kB/s \n",
            "\u001b[?25hInstalling collected packages: pycryptodomex\n",
            "Successfully installed pycryptodomex-3.9.8\n"
          ],
          "name": "stdout"
        }
      ]
    },
    {
      "cell_type": "code",
      "metadata": {
        "id": "n9AhiwSTIw6v",
        "outputId": "e222263d-d983-4802-84d8-55d2fc239c38",
        "colab": {
          "base_uri": "https://localhost:8080/",
          "height": 207
        }
      },
      "source": [
        "pip install pycrypto"
      ],
      "execution_count": null,
      "outputs": [
        {
          "output_type": "stream",
          "text": [
            "Collecting pycrypto\n",
            "\u001b[?25l  Downloading https://files.pythonhosted.org/packages/60/db/645aa9af249f059cc3a368b118de33889219e0362141e75d4eaf6f80f163/pycrypto-2.6.1.tar.gz (446kB)\n",
            "\r\u001b[K     |▊                               | 10kB 22.8MB/s eta 0:00:01\r\u001b[K     |█▌                              | 20kB 5.8MB/s eta 0:00:01\r\u001b[K     |██▏                             | 30kB 7.1MB/s eta 0:00:01\r\u001b[K     |███                             | 40kB 7.8MB/s eta 0:00:01\r\u001b[K     |███▊                            | 51kB 6.8MB/s eta 0:00:01\r\u001b[K     |████▍                           | 61kB 7.6MB/s eta 0:00:01\r\u001b[K     |█████▏                          | 71kB 7.8MB/s eta 0:00:01\r\u001b[K     |█████▉                          | 81kB 8.4MB/s eta 0:00:01\r\u001b[K     |██████▋                         | 92kB 8.0MB/s eta 0:00:01\r\u001b[K     |███████▍                        | 102kB 8.6MB/s eta 0:00:01\r\u001b[K     |████████                        | 112kB 8.6MB/s eta 0:00:01\r\u001b[K     |████████▉                       | 122kB 8.6MB/s eta 0:00:01\r\u001b[K     |█████████▌                      | 133kB 8.6MB/s eta 0:00:01\r\u001b[K     |██████████▎                     | 143kB 8.6MB/s eta 0:00:01\r\u001b[K     |███████████                     | 153kB 8.6MB/s eta 0:00:01\r\u001b[K     |███████████▊                    | 163kB 8.6MB/s eta 0:00:01\r\u001b[K     |████████████▌                   | 174kB 8.6MB/s eta 0:00:01\r\u001b[K     |█████████████▏                  | 184kB 8.6MB/s eta 0:00:01\r\u001b[K     |██████████████                  | 194kB 8.6MB/s eta 0:00:01\r\u001b[K     |██████████████▊                 | 204kB 8.6MB/s eta 0:00:01\r\u001b[K     |███████████████▍                | 215kB 8.6MB/s eta 0:00:01\r\u001b[K     |████████████████▏               | 225kB 8.6MB/s eta 0:00:01\r\u001b[K     |█████████████████               | 235kB 8.6MB/s eta 0:00:01\r\u001b[K     |█████████████████▋              | 245kB 8.6MB/s eta 0:00:01\r\u001b[K     |██████████████████▍             | 256kB 8.6MB/s eta 0:00:01\r\u001b[K     |███████████████████             | 266kB 8.6MB/s eta 0:00:01\r\u001b[K     |███████████████████▉            | 276kB 8.6MB/s eta 0:00:01\r\u001b[K     |████████████████████▋           | 286kB 8.6MB/s eta 0:00:01\r\u001b[K     |█████████████████████▎          | 296kB 8.6MB/s eta 0:00:01\r\u001b[K     |██████████████████████          | 307kB 8.6MB/s eta 0:00:01\r\u001b[K     |██████████████████████▊         | 317kB 8.6MB/s eta 0:00:01\r\u001b[K     |███████████████████████▌        | 327kB 8.6MB/s eta 0:00:01\r\u001b[K     |████████████████████████▎       | 337kB 8.6MB/s eta 0:00:01\r\u001b[K     |█████████████████████████       | 348kB 8.6MB/s eta 0:00:01\r\u001b[K     |█████████████████████████▊      | 358kB 8.6MB/s eta 0:00:01\r\u001b[K     |██████████████████████████▍     | 368kB 8.6MB/s eta 0:00:01\r\u001b[K     |███████████████████████████▏    | 378kB 8.6MB/s eta 0:00:01\r\u001b[K     |████████████████████████████    | 389kB 8.6MB/s eta 0:00:01\r\u001b[K     |████████████████████████████▋   | 399kB 8.6MB/s eta 0:00:01\r\u001b[K     |█████████████████████████████▍  | 409kB 8.6MB/s eta 0:00:01\r\u001b[K     |██████████████████████████████  | 419kB 8.6MB/s eta 0:00:01\r\u001b[K     |██████████████████████████████▉ | 430kB 8.6MB/s eta 0:00:01\r\u001b[K     |███████████████████████████████▋| 440kB 8.6MB/s eta 0:00:01\r\u001b[K     |████████████████████████████████| 450kB 8.6MB/s \n",
            "\u001b[?25hBuilding wheels for collected packages: pycrypto\n",
            "  Building wheel for pycrypto (setup.py) ... \u001b[?25l\u001b[?25hdone\n",
            "  Created wheel for pycrypto: filename=pycrypto-2.6.1-cp36-cp36m-linux_x86_64.whl size=499939 sha256=c8e4b404aad26fc07226fc3805bcd4a76288223360ce66cfcb011bf7b685e1ed\n",
            "  Stored in directory: /root/.cache/pip/wheels/27/02/5e/77a69d0c16bb63c6ed32f5386f33a2809c94bd5414a2f6c196\n",
            "Successfully built pycrypto\n",
            "Installing collected packages: pycrypto\n",
            "Successfully installed pycrypto-2.6.1\n"
          ],
          "name": "stdout"
        }
      ]
    },
    {
      "cell_type": "code",
      "metadata": {
        "id": "z0AAsHzvIxFL",
        "outputId": "e95e01fa-4446-4edc-ad6f-7d2acf2df7e0",
        "colab": {
          "base_uri": "https://localhost:8080/",
          "height": 581
        }
      },
      "source": [
        "pip install eciespy"
      ],
      "execution_count": null,
      "outputs": [
        {
          "output_type": "stream",
          "text": [
            "Collecting eciespy\n",
            "  Downloading https://files.pythonhosted.org/packages/d2/c6/0d0140f12f2d2cb19a52db3745443abcb4cac40834145d3192c4841507d8/eciespy-0.3.8-py3-none-any.whl\n",
            "Collecting eth-keys<0.4.0,>=0.3.3\n",
            "  Downloading https://files.pythonhosted.org/packages/a0/42/ee0b1a9e765f234a7689a3cfd99a8475a807f699eefec70e8e5d9d348eda/eth_keys-0.3.3-py3-none-any.whl\n",
            "Collecting pycryptodome<4.0,>=3.9\n",
            "\u001b[?25l  Downloading https://files.pythonhosted.org/packages/17/55/17fa0b55849dc135f7bc400993a9206bf06d1b5d9520b0bc8d47c57aaef5/pycryptodome-3.9.8-cp36-cp36m-manylinux1_x86_64.whl (13.7MB)\n",
            "\u001b[K     |████████████████████████████████| 13.7MB 7.6MB/s \n",
            "\u001b[?25hCollecting coincurve<14.0,>=13.0\n",
            "\u001b[?25l  Downloading https://files.pythonhosted.org/packages/41/ce/f021c51dfe5d1fa9e0c2864f87c92505322eafd33fe2db6f3d04a5a3e6a7/coincurve-13.0.0-cp36-cp36m-manylinux2010_x86_64.whl (517kB)\n",
            "\u001b[K     |████████████████████████████████| 522kB 69.0MB/s \n",
            "\u001b[?25hCollecting eth-typing<3.0.0,>=2.2.1\n",
            "  Downloading https://files.pythonhosted.org/packages/cd/2d/a659d04048f99ce2cde74ece197a7a838ce3050c13d7ba2cb1c0dedd9227/eth_typing-2.2.2-py3-none-any.whl\n",
            "Collecting eth-utils<2.0.0,>=1.3.0\n",
            "  Downloading https://files.pythonhosted.org/packages/ae/c3/e91368c743fc2ae26bd89a28348f484329bda17c87d35ffba94e31b74119/eth_utils-1.9.5-py3-none-any.whl\n",
            "Collecting asn1crypto\n",
            "\u001b[?25l  Downloading https://files.pythonhosted.org/packages/b5/a8/56be92dcd4a5bf1998705a9b4028249fe7c9a035b955fe93b6a3e5b829f8/asn1crypto-1.4.0-py2.py3-none-any.whl (104kB)\n",
            "\u001b[K     |████████████████████████████████| 112kB 72.6MB/s \n",
            "\u001b[?25hRequirement already satisfied: cffi>=1.3.0 in /usr/local/lib/python3.6/dist-packages (from coincurve<14.0,>=13.0->eciespy) (1.14.3)\n",
            "Collecting eth-hash<1.0.0,>=0.1.0\n",
            "  Downloading https://files.pythonhosted.org/packages/0d/d8/0f0c8d4ccaa4c8d25524fd1ed9f5c6d9551b52b74b973f338de3f0a23111/eth_hash-0.2.0-py3-none-any.whl\n",
            "Collecting cytoolz<1.0.0,>=0.10.1; implementation_name == \"cpython\"\n",
            "\u001b[?25l  Downloading https://files.pythonhosted.org/packages/58/67/1c60da8ba831bfefedb64c78b9f6820bdf58972797c95644ee3191daf27a/cytoolz-0.11.0.tar.gz (477kB)\n",
            "\u001b[K     |████████████████████████████████| 481kB 62.6MB/s \n",
            "\u001b[?25hRequirement already satisfied: pycparser in /usr/local/lib/python3.6/dist-packages (from cffi>=1.3.0->coincurve<14.0,>=13.0->eciespy) (2.20)\n",
            "Requirement already satisfied: toolz>=0.8.0 in /usr/local/lib/python3.6/dist-packages (from cytoolz<1.0.0,>=0.10.1; implementation_name == \"cpython\"->eth-utils<2.0.0,>=1.3.0->eth-keys<0.4.0,>=0.3.3->eciespy) (0.11.1)\n",
            "Building wheels for collected packages: cytoolz\n",
            "  Building wheel for cytoolz (setup.py) ... \u001b[?25l\u001b[?25hdone\n",
            "  Created wheel for cytoolz: filename=cytoolz-0.11.0-cp36-cp36m-linux_x86_64.whl size=1225595 sha256=9c612bc0b918a73564d3bb472960f67425fe14a1ac747cc80e136ca4198089e5\n",
            "  Stored in directory: /root/.cache/pip/wheels/a1/32/3c/9c9926b510647cacdde744b2c7acdf1ccd5896fbb7f8d5df0c\n",
            "Successfully built cytoolz\n",
            "Installing collected packages: eth-typing, eth-hash, cytoolz, eth-utils, eth-keys, pycryptodome, asn1crypto, coincurve, eciespy\n",
            "Successfully installed asn1crypto-1.4.0 coincurve-13.0.0 cytoolz-0.11.0 eciespy-0.3.8 eth-hash-0.2.0 eth-keys-0.3.3 eth-typing-2.2.2 eth-utils-1.9.5 pycryptodome-3.9.8\n"
          ],
          "name": "stdout"
        }
      ]
    },
    {
      "cell_type": "code",
      "metadata": {
        "id": "_7z2l6H0Ii6O"
      },
      "source": [
        "from Cryptodome.Cipher import AES\n",
        "from Crypto import Random\n",
        "import os\n",
        "import datetime\n",
        "import hashlib \n",
        "import pandas as pd\n",
        "from ecies.utils import generate_eth_key, generate_key\n",
        "from ecies import encrypt, decrypt\n",
        "import time"
      ],
      "execution_count": null,
      "outputs": []
    },
    {
      "cell_type": "code",
      "metadata": {
        "id": "BB4xvAMzYpOZ"
      },
      "source": [
        "import sqlite3\n",
        "from sqlite3 import connect"
      ],
      "execution_count": null,
      "outputs": []
    },
    {
      "cell_type": "code",
      "metadata": {
        "id": "qubzOCZxYs10",
        "outputId": "ff2661b9-9e7f-4a21-b5ff-bc9200d587b7",
        "colab": {
          "base_uri": "https://localhost:8080/",
          "height": 34
        }
      },
      "source": [
        "conn = connect('/content/Datascience.db')\n",
        "curs = conn.cursor()\n",
        "curs.execute(\"CREATE TABLE encrpt1 (name varchar(32),encrypted_key varchar(32), public_key varchar(32),private_key varchar(32));\")"
      ],
      "execution_count": null,
      "outputs": [
        {
          "output_type": "execute_result",
          "data": {
            "text/plain": [
              "<sqlite3.Cursor at 0x7fcf77cd3f10>"
            ]
          },
          "metadata": {
            "tags": []
          },
          "execution_count": 31
        }
      ]
    },
    {
      "cell_type": "code",
      "metadata": {
        "id": "0SDbKVhUvEt4"
      },
      "source": [
        "def inser(name,enck,pukey,prkey):\n",
        "                  curs = conn.cursor()\n",
        "                  inserting = \"\"\"INSERT INTO encrpt1 (name,encrypted_key,public_key,private_key) VALUES (?, ?, ?,?);\"\"\"\n",
        "                  dat = (name,enck,pk_hex,sk_hex)\n",
        "                  curs.execute(inserting, dat)\n",
        "                  conn.commit()\n",
        "                  curs.close()"
      ],
      "execution_count": null,
      "outputs": []
    },
    {
      "cell_type": "code",
      "metadata": {
        "id": "6UKvssC4Mztt",
        "outputId": "fa3b241f-994f-48fe-f70d-dd407d94eae3",
        "colab": {
          "base_uri": "https://localhost:8080/",
          "height": 190
        }
      },
      "source": [
        "start_time = time.time()\n",
        "iv = Random.new().read(AES.block_size)\n",
        "input_file = open(\"sivani.jpg\",\"rb\")\n",
        "input_data = input_file.read()\n",
        "input_file.close()\n",
        "hash= hashlib.sha256(input_data) \n",
        "na=\"enc\"\n",
        "name=str(na)+datetime.datetime.now().strftime(\"%Y%m%d-%H%M%S\")\n",
        "key=os.urandom(32)\n",
        "print(\"AES Key\")\n",
        "print(key)\n",
        "cfb_cipher = AES.new(key, AES.MODE_CFB,iv)\n",
        "enc_data = cfb_cipher.encrypt(input_data)\n",
        "enc_file = open('/content/enc/{}.jpg'.format(name), \"wb\")\n",
        "enc_file.write(enc_data)\n",
        "enc_file.close()\n",
        "eth_k = generate_eth_key()\n",
        "sk_hex = eth_k.to_hex()\n",
        "print(\"Private Key\")\n",
        "print(sk_hex)\n",
        "pk_hex = eth_k.public_key.to_hex()\n",
        "print(\"Public Key\")\n",
        "print(pk_hex)\n",
        "data=key\n",
        "enck=encrypt(pk_hex,data)\n",
        "print(\"Encrypted AES key\")\n",
        "print(enck)\n",
        "print(\"--- %s seconds ---\" % (time.time() - start_time))\n",
        "inser(name,enck,pk_hex,sk_hex)"
      ],
      "execution_count": null,
      "outputs": [
        {
          "output_type": "stream",
          "text": [
            "AES Key\n",
            "b'\\xbaO\\xc6\\xe5\\xe4\\x04\\x93K\\x1d\\xbf\\x1bm\\x0b\\xc7\\x9f\\xfa\\xcbYC4!\\xf5\\r\\x95\\xe2?2\\xa4\\xd9\\xc6!S'\n",
            "Private Key\n",
            "0x92f3ca2366b9307a5edf4ba692756f8fd44493f3106e9da955dc17f5dc22f19a\n",
            "Public Key\n",
            "0x221b3297fb413eeda752370d9840c2bd4dc680059ad0f98e8f4166387856695f16e4b7fc24c9a1aba84fe4f0a747e5d8a4d2540dc5490400e71c0bf019939aa4\n",
            "Encrypted AES key\n",
            "b'\\x047\\xab\\xba-\\xc4\\xe4\\x1c\\x80|\\x95\\xd7\\xdf\\xf2F\\x07bm\\xba\\x94\\xe4\\xe3s\\xff\\xc0\\xdbau\\xa3\\x87\\xfa)\\x08\\xec\\xf36\\x88\\xd0\\xf7\\xbc\\xb7A|$\\x9a\\xe7C\\xe2d^\\x1c6Z^\\xd7\\x89\\x81\\xfa\\xf1>\\x04\\xe5\\x11\\xc5\\x11\\xa8\\x80\\xc8\\xc7\\xfc\\xc3\\x1d\\xa2\\xd0\\x82\\x0c\\x91\\xef\\x96\\x98\\x00<\\x0c\\x98,\\xba^\\xbb\\x01\\x05\\x94\\xbf\\x8aI\\xf3\\xe2\\xb6/\\xff\\x00\\x1d\\xb2\\x0fN9s\\xbd4\\xb3\\xb6B\\x1f\\\\S\\xcd\\xa8\\x86]>l\\xabY\\\\/\\x16s\\xc9Z\\xcf'\n",
            "--- 0.037446022033691406 seconds ---\n"
          ],
          "name": "stdout"
        }
      ]
    },
    {
      "cell_type": "code",
      "metadata": {
        "id": "ZSB0lU_Dzazk",
        "outputId": "d7dfae8d-5755-47c3-ae4d-4a9c7cc2ce43",
        "colab": {
          "base_uri": "https://localhost:8080/",
          "height": 173
        }
      },
      "source": [
        "connn = sqlite3.connect('/content/Datascience.db')\n",
        "cur = connn.cursor()\n",
        "cur.execute(\"SELECT * FROM encrpt1 where name\")\n",
        "rows = cur.fetchall()\n",
        "for row in rows:\n",
        "  print(\"name\",row[0])\n",
        "  print(\"Encrypted Key=\",row[1])\n",
        "  print(\"Public Key=\",row[2])\n",
        "  print(\"Private key=\",row[3])\n",
        "#conn.close()"
      ],
      "execution_count": null,
      "outputs": [
        {
          "output_type": "stream",
          "text": [
            "name enc20201010-145824\n",
            "Encrypted Key= b'\\x04\\xb6\\x13\\xe2\\x16J\\xcfd\\x81\\x94o\\xe3\\x19\\xcd\\xff(B1\\xec\\xd0-!W|V\\xd9rm\\xb5\\x12Q\\xc2!\\xe8\\x0bU@nJ\\xcf\\x18J\\x1f5?v\\xb2\\x0f5\\xdf\\x9fU\\xc5\\xb8\\xb9jL{\\x8c\\xd1\\xde\\xa3i\\x9e\\xc8e\\x1d\\xdf\\x0c\\x81\\xa7K\\xe1\\xe6\\xdahW\\xfc(\\x1e\\x980\\xcb|\\xc7\\x1c\\xb0r\\x93a9\\xa8\\xcf,\\xbd\\xb0L[u\\xa5\\xec7G\\x9eJ\\xb9\\xfb\\xe9\\xabJ\\xee\\xbco~\\xa3{J\\x10Wm\\x89\\x1dg\\x12*[\\xc8\\x8e\\xa2'\n",
            "Public Key= 0x6495f1394fff2bd17d17fbabcac6b1520c742b8adf2298921acd16f90640ba5443ef7be24e85e9e605e1fbf27f3db56fac29dff59e631c155cf35c41f03fc5f5\n",
            "Private key= 0x33a474275c849c3603c881d635a87a50f544b6fd0084a9705b38ea477b402aab\n",
            "name enc20201010-145851\n",
            "Encrypted Key= b'\\x047\\xab\\xba-\\xc4\\xe4\\x1c\\x80|\\x95\\xd7\\xdf\\xf2F\\x07bm\\xba\\x94\\xe4\\xe3s\\xff\\xc0\\xdbau\\xa3\\x87\\xfa)\\x08\\xec\\xf36\\x88\\xd0\\xf7\\xbc\\xb7A|$\\x9a\\xe7C\\xe2d^\\x1c6Z^\\xd7\\x89\\x81\\xfa\\xf1>\\x04\\xe5\\x11\\xc5\\x11\\xa8\\x80\\xc8\\xc7\\xfc\\xc3\\x1d\\xa2\\xd0\\x82\\x0c\\x91\\xef\\x96\\x98\\x00<\\x0c\\x98,\\xba^\\xbb\\x01\\x05\\x94\\xbf\\x8aI\\xf3\\xe2\\xb6/\\xff\\x00\\x1d\\xb2\\x0fN9s\\xbd4\\xb3\\xb6B\\x1f\\\\S\\xcd\\xa8\\x86]>l\\xabY\\\\/\\x16s\\xc9Z\\xcf'\n",
            "Public Key= 0x221b3297fb413eeda752370d9840c2bd4dc680059ad0f98e8f4166387856695f16e4b7fc24c9a1aba84fe4f0a747e5d8a4d2540dc5490400e71c0bf019939aa4\n",
            "Private key= 0x92f3ca2366b9307a5edf4ba692756f8fd44493f3106e9da955dc17f5dc22f19a\n"
          ],
          "name": "stdout"
        }
      ]
    },
    {
      "cell_type": "code",
      "metadata": {
        "id": "Llnz_M9DNfhy",
        "outputId": "1fedc8da-b383-4bdb-c4b1-4866d964845e",
        "colab": {
          "base_uri": "https://localhost:8080/",
          "height": 68
        }
      },
      "source": [
        "start_time = time.time()\n",
        "enc_file2 = open('/content/enc/{}.jpg'.format(name),\"rb\")\n",
        "enc_data2 = enc_file2.read()\n",
        "enc_file2.close()\n",
        "key1=decrypt(sk_hex,enck)\n",
        "print(\"AES Key\")\n",
        "print(key1)\n",
        "cfb_decipher = AES.new(key1, AES.MODE_CFB, iv)\n",
        "plain_data = cfb_decipher.decrypt(enc_data2)\n",
        "name6=\"dec\"+datetime.datetime.now().strftime(\"%Y%m%d-%H%M%S\")\n",
        "output_file = open('/content/dec/{}.jpg'.format(name6), \"wb\")\n",
        "output_file.write(plain_data)\n",
        "output_file.close()\n",
        "print(\"--- %s seconds ---\" % (time.time() - start_time))"
      ],
      "execution_count": null,
      "outputs": [
        {
          "output_type": "stream",
          "text": [
            "AES Key\n",
            "b'_\\x80\\x1bJ\\xdf\\xd4\\tO\\xe8?k\\xae\\t\\x9bB\\xf0\\x83\\xf8\\x81\\x9e\\x94\\x89\\xf7\\x17\\x95\\x14\\xe4\\x8fR6\\x15\\xc1'\n",
            "--- 0.03582906723022461 seconds ---\n"
          ],
          "name": "stdout"
        }
      ]
    }
  ]
}